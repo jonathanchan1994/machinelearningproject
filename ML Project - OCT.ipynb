{
 "cells": [
  {
   "cell_type": "code",
   "execution_count": 1,
   "metadata": {},
   "outputs": [],
   "source": [
    "using CSV, DataFrames, Plots, Random, Statistics, LinearAlgebra, JuMP, Gurobi, Tables\n",
    " "
   ]
  },
  {
   "cell_type": "code",
   "execution_count": 2,
   "metadata": {},
   "outputs": [],
   "source": [
    "df=CSV.read(\"drive_results.csv\");\n",
    "len=size(df,2);\n",
    "X= df[:,2:len-1];\n",
    "y = df[:, len];\n",
    "(xtrain, ytrain), (xtest, ytest) = IAI.split_data(:classification, X, y,seed=1,train_proportion=.5);\n",
    "(xval,yval),(xtest,ytest)=IAI.split_data(:classification,xtest,ytest,seed=1,train_proportion=.5);"
   ]
  },
  {
   "cell_type": "code",
   "execution_count": 8,
   "metadata": {},
   "outputs": [
    {
     "data": {
      "text/html": [
       "<table class=\"data-frame\"><thead><tr><th></th><th>yardline_100</th><th>down</th><th>ydstogo</th><th>goal_to_go</th></tr><tr><th></th><th>Int64</th><th>Int64</th><th>Int64</th><th>Int64</th></tr></thead><tbody><p>200,538 rows × 4 columns</p><tr><th>1</th><td>58</td><td>1</td><td>10</td><td>0</td></tr><tr><th>2</th><td>56</td><td>3</td><td>8</td><td>0</td></tr><tr><th>3</th><td>56</td><td>4</td><td>8</td><td>0</td></tr><tr><th>4</th><td>98</td><td>1</td><td>10</td><td>0</td></tr><tr><th>5</th><td>94</td><td>3</td><td>6</td><td>0</td></tr><tr><th>6</th><td>96</td><td>4</td><td>8</td><td>0</td></tr><tr><th>7</th><td>43</td><td>1</td><td>10</td><td>0</td></tr><tr><th>8</th><td>30</td><td>1</td><td>10</td><td>0</td></tr><tr><th>9</th><td>22</td><td>3</td><td>2</td><td>0</td></tr><tr><th>10</th><td>41</td><td>4</td><td>21</td><td>0</td></tr><tr><th>11</th><td>89</td><td>1</td><td>10</td><td>0</td></tr><tr><th>12</th><td>42</td><td>1</td><td>10</td><td>0</td></tr><tr><th>13</th><td>22</td><td>1</td><td>10</td><td>0</td></tr><tr><th>14</th><td>19</td><td>3</td><td>7</td><td>0</td></tr><tr><th>15</th><td>19</td><td>4</td><td>7</td><td>0</td></tr><tr><th>16</th><td>73</td><td>1</td><td>10</td><td>0</td></tr><tr><th>17</th><td>70</td><td>3</td><td>7</td><td>0</td></tr><tr><th>18</th><td>79</td><td>4</td><td>16</td><td>0</td></tr><tr><th>19</th><td>74</td><td>1</td><td>10</td><td>0</td></tr><tr><th>20</th><td>69</td><td>1</td><td>15</td><td>0</td></tr><tr><th>21</th><td>57</td><td>3</td><td>3</td><td>0</td></tr><tr><th>22</th><td>49</td><td>1</td><td>10</td><td>0</td></tr><tr><th>23</th><td>79</td><td>1</td><td>10</td><td>0</td></tr><tr><th>24</th><td>76</td><td>3</td><td>7</td><td>0</td></tr><tr><th>25</th><td>44</td><td>1</td><td>10</td><td>0</td></tr><tr><th>26</th><td>32</td><td>1</td><td>10</td><td>0</td></tr><tr><th>27</th><td>34</td><td>3</td><td>12</td><td>0</td></tr><tr><th>28</th><td>44</td><td>4</td><td>22</td><td>0</td></tr><tr><th>29</th><td>95</td><td>1</td><td>10</td><td>0</td></tr><tr><th>30</th><td>87</td><td>3</td><td>2</td><td>0</td></tr><tr><th>&vellip;</th><td>&vellip;</td><td>&vellip;</td><td>&vellip;</td><td>&vellip;</td></tr></tbody></table>"
      ],
      "text/latex": [
       "\\begin{tabular}{r|cccc}\n",
       "\t& yardline\\_100 & down & ydstogo & goal\\_to\\_go\\\\\n",
       "\t\\hline\n",
       "\t& Int64 & Int64 & Int64 & Int64\\\\\n",
       "\t\\hline\n",
       "\t1 & 58 & 1 & 10 & 0 \\\\\n",
       "\t2 & 56 & 3 & 8 & 0 \\\\\n",
       "\t3 & 56 & 4 & 8 & 0 \\\\\n",
       "\t4 & 98 & 1 & 10 & 0 \\\\\n",
       "\t5 & 94 & 3 & 6 & 0 \\\\\n",
       "\t6 & 96 & 4 & 8 & 0 \\\\\n",
       "\t7 & 43 & 1 & 10 & 0 \\\\\n",
       "\t8 & 30 & 1 & 10 & 0 \\\\\n",
       "\t9 & 22 & 3 & 2 & 0 \\\\\n",
       "\t10 & 41 & 4 & 21 & 0 \\\\\n",
       "\t11 & 89 & 1 & 10 & 0 \\\\\n",
       "\t12 & 42 & 1 & 10 & 0 \\\\\n",
       "\t13 & 22 & 1 & 10 & 0 \\\\\n",
       "\t14 & 19 & 3 & 7 & 0 \\\\\n",
       "\t15 & 19 & 4 & 7 & 0 \\\\\n",
       "\t16 & 73 & 1 & 10 & 0 \\\\\n",
       "\t17 & 70 & 3 & 7 & 0 \\\\\n",
       "\t18 & 79 & 4 & 16 & 0 \\\\\n",
       "\t19 & 74 & 1 & 10 & 0 \\\\\n",
       "\t20 & 69 & 1 & 15 & 0 \\\\\n",
       "\t21 & 57 & 3 & 3 & 0 \\\\\n",
       "\t22 & 49 & 1 & 10 & 0 \\\\\n",
       "\t23 & 79 & 1 & 10 & 0 \\\\\n",
       "\t24 & 76 & 3 & 7 & 0 \\\\\n",
       "\t25 & 44 & 1 & 10 & 0 \\\\\n",
       "\t26 & 32 & 1 & 10 & 0 \\\\\n",
       "\t27 & 34 & 3 & 12 & 0 \\\\\n",
       "\t28 & 44 & 4 & 22 & 0 \\\\\n",
       "\t29 & 95 & 1 & 10 & 0 \\\\\n",
       "\t30 & 87 & 3 & 2 & 0 \\\\\n",
       "\t$\\dots$ & $\\dots$ & $\\dots$ & $\\dots$ & $\\dots$ \\\\\n",
       "\\end{tabular}\n"
      ],
      "text/plain": [
       "200538×4 DataFrame\n",
       "│ Row    │ yardline_100 │ down  │ ydstogo │ goal_to_go │\n",
       "│        │ \u001b[90mInt64\u001b[39m        │ \u001b[90mInt64\u001b[39m │ \u001b[90mInt64\u001b[39m   │ \u001b[90mInt64\u001b[39m      │\n",
       "├────────┼──────────────┼───────┼─────────┼────────────┤\n",
       "│ 1      │ 58           │ 1     │ 10      │ 0          │\n",
       "│ 2      │ 56           │ 3     │ 8       │ 0          │\n",
       "│ 3      │ 56           │ 4     │ 8       │ 0          │\n",
       "│ 4      │ 98           │ 1     │ 10      │ 0          │\n",
       "│ 5      │ 94           │ 3     │ 6       │ 0          │\n",
       "│ 6      │ 96           │ 4     │ 8       │ 0          │\n",
       "│ 7      │ 43           │ 1     │ 10      │ 0          │\n",
       "│ 8      │ 30           │ 1     │ 10      │ 0          │\n",
       "│ 9      │ 22           │ 3     │ 2       │ 0          │\n",
       "│ 10     │ 41           │ 4     │ 21      │ 0          │\n",
       "⋮\n",
       "│ 200528 │ 23           │ 1     │ 10      │ 0          │\n",
       "│ 200529 │ 74           │ 1     │ 10      │ 0          │\n",
       "│ 200530 │ 74           │ 3     │ 10      │ 0          │\n",
       "│ 200531 │ 52           │ 1     │ 10      │ 0          │\n",
       "│ 200532 │ 49           │ 3     │ 7       │ 0          │\n",
       "│ 200533 │ 58           │ 4     │ 16      │ 0          │\n",
       "│ 200534 │ 70           │ 1     │ 15      │ 0          │\n",
       "│ 200535 │ 69           │ 3     │ 14      │ 0          │\n",
       "│ 200536 │ 50           │ 1     │ 10      │ 0          │\n",
       "│ 200537 │ 39           │ 1     │ 10      │ 0          │\n",
       "│ 200538 │ 23           │ 1     │ 10      │ 0          │"
      ]
     },
     "execution_count": 8,
     "metadata": {},
     "output_type": "execute_result"
    }
   ],
   "source": [
    "X"
   ]
  },
  {
   "cell_type": "code",
   "execution_count": 4,
   "metadata": {
    "scrolled": true
   },
   "outputs": [
    {
     "name": "stderr",
     "output_type": "stream",
     "text": [
      "┌ Warning: This copy of Interpretable AI software is for academic purposes only and not for commercial use.\n",
      "└ @ IAIBase /Users/iai/builds/InterpretableAI/SysImgBuilder/.julia/packages/IAIBase/ymcNn/src/precompile.jl:19\n",
      "\u001b[32mTraining trees...  1%|▍                                 |  ETA: 0:10:50\u001b[39m"
     ]
    },
    {
     "ename": "InterruptException",
     "evalue": "InterruptException:",
     "output_type": "error",
     "traceback": [
      "InterruptException:",
      "",
      "Stacktrace:",
      " [1] IAITrees.Node{IAIBase.ClassificationTask,IAIBase.ClassificationFit}(::IAIBase.Data{IAIBase.ClassificationTask,IAIBase.ClassificationTarget}) at /Users/iai/builds/InterpretableAI/SysImgBuilder/.julia/packages/IAITrees/PwNTS/src/node.jl:53",
      " [2] Type at /Users/iai/builds/InterpretableAI/SysImgBuilder/.julia/packages/OptimalTrees/D3J3L/src/localsearch/search.jl:606 [inlined]",
      " [3] greedy_search!(::IAITrees.Tree{IAIBase.ClassificationTask,IAITrees.Node{IAIBase.ClassificationTask,IAIBase.ClassificationFit}}, ::OptimalTrees.LocalSearcher{IAIBase.ClassificationTask,OptimalTrees.ClassificationEvaluator{IAIBase.Gini},IAIBase.ClassificationTarget,IAITrees.Node{IAIBase.ClassificationTask,IAIBase.ClassificationFit}}) at /Users/iai/builds/InterpretableAI/SysImgBuilder/.julia/packages/OptimalTrees/D3J3L/src/localsearch/greedy.jl:45",
      " [4] run_worker!(::OptimalTrees.LocalSearcher{IAIBase.ClassificationTask,OptimalTrees.ClassificationEvaluator{IAIBase.Gini},IAIBase.ClassificationTarget,IAITrees.Node{IAIBase.ClassificationTask,IAIBase.ClassificationFit}}, ::OptimalTrees.LocalSearcher{IAIBase.ClassificationTask,OptimalTrees.ClassificationEvaluator{IAIBase.Gini},IAIBase.ClassificationTarget,IAITrees.Node{IAIBase.ClassificationTask,IAIBase.ClassificationFit}}, ::Distributed.RemoteChannel{Channel{Bool}}, ::UnitRange{Int64}) at /Users/iai/builds/InterpretableAI/SysImgBuilder/.julia/packages/OptimalTrees/D3J3L/src/localsearch/distributed.jl:99",
      " [5] run_worker! at /Users/iai/builds/InterpretableAI/SysImgBuilder/.julia/packages/OptimalTrees/D3J3L/src/localsearch/distributed.jl:61 [inlined]",
      " [6] run_distributed!(::Tuple{OptimalTrees.LocalSearcher{IAIBase.ClassificationTask,OptimalTrees.ClassificationEvaluator{IAIBase.Gini},IAIBase.ClassificationTarget,IAITrees.Node{IAIBase.ClassificationTask,IAIBase.ClassificationFit}},OptimalTrees.LocalSearcher{IAIBase.ClassificationTask,OptimalTrees.ClassificationEvaluator{IAIBase.Gini},IAIBase.ClassificationTarget,IAITrees.Node{IAIBase.ClassificationTask,IAIBase.ClassificationFit}},Distributed.RemoteChannel{Channel{Bool}}}, ::typeof(OptimalTrees.run_worker!), ::Int64, ::Array{Int64,1}) at /Users/iai/builds/InterpretableAI/SysImgBuilder/.julia/packages/IAIBase/ymcNn/src/utils/distributed.jl:46",
      " [7] macro expansion at /Users/iai/builds/InterpretableAI/SysImgBuilder/.julia/packages/OptimalTrees/D3J3L/src/localsearch/distributed.jl:34 [inlined]",
      " [8] macro expansion at ./task.jl:253 [inlined]",
      " [9] _fit!(::OptimalTrees.OptimalTreeClassifier) at /Users/iai/builds/InterpretableAI/SysImgBuilder/.julia/packages/OptimalTrees/D3J3L/src/localsearch/distributed.jl:29",
      " [10] #_fit!#144 at /Users/iai/builds/InterpretableAI/SysImgBuilder/.julia/packages/IAIBase/ymcNn/src/api.jl:143 [inlined]",
      " [11] _fit! at /Users/iai/builds/InterpretableAI/SysImgBuilder/.julia/packages/IAIBase/ymcNn/src/api.jl:142 [inlined]",
      " [12] #fit!#221 at /Users/iai/builds/InterpretableAI/SysImgBuilder/.julia/packages/IAIBase/ymcNn/src/api.jl:51 [inlined]",
      " [13] (::getfield(IAIBase, Symbol(\"#kw##fit!\")))(::NamedTuple{(:sample_weight,),Tuple{Nothing}}, ::typeof(IAIBase.fit!), ::OptimalTrees.OptimalTreeClassifier, ::SubDataFrame{DataFrame,DataFrames.Index,Array{Int64,1}}, ::SubArray{Int64,1,Array{Int64,1},Tuple{Array{Int64,1}},false}) at ./none:0",
      " [14] #grid_fit!#30(::Base.Iterators.Pairs{Union{},Union{},Tuple{},NamedTuple{(),Tuple{}}}, ::typeof(IAIBase.grid_fit!), ::OptimalTrees.OptimalTreeClassifier, ::Tuple{Array{Int64,1},Array{Int64,1}}, ::Dict{Symbol,Any}, ::Symbol, ::DataFrame, ::Nothing, ::Array{Int64,1}) at /Users/iai/builds/InterpretableAI/SysImgBuilder/.julia/packages/IAITrees/PwNTS/src/gridsearch.jl:100",
      " [15] grid_fit! at /Users/iai/builds/InterpretableAI/SysImgBuilder/.julia/packages/IAITrees/PwNTS/src/gridsearch.jl:81 [inlined]",
      " [16] #_fit!#120(::Bool, ::Base.Iterators.Pairs{Union{},Union{},Tuple{},NamedTuple{(),Tuple{}}}, ::typeof(IAIBase._fit!), ::IAIBase.GridSearch{OptimalTrees.OptimalTreeClassifier,IAITrees.TreeGridResult}, ::DataFrame, ::Nothing, ::Symbol, ::Array{Int64,1}) at /Users/iai/builds/InterpretableAI/SysImgBuilder/.julia/packages/IAIBase/ymcNn/src/gridsearch.jl:416",
      " [17] _fit! at /Users/iai/builds/InterpretableAI/SysImgBuilder/.julia/packages/IAIBase/ymcNn/src/gridsearch.jl:404 [inlined]",
      " [18] #_fit!#119 at /Users/iai/builds/InterpretableAI/SysImgBuilder/.julia/packages/IAIBase/ymcNn/src/gridsearch.jl:389 [inlined]",
      " [19] _fit!(::IAIBase.GridSearch{OptimalTrees.OptimalTreeClassifier,IAITrees.TreeGridResult}, ::DataFrame, ::Nothing, ::Array{Int64,1}) at /Users/iai/builds/InterpretableAI/SysImgBuilder/.julia/packages/IAIBase/ymcNn/src/gridsearch.jl:389",
      " [20] #fit!#222(::Nothing, ::Base.Iterators.Pairs{Union{},Union{},Tuple{},NamedTuple{(),Tuple{}}}, ::typeof(IAIBase.fit!), ::IAIBase.GridSearch{OptimalTrees.OptimalTreeClassifier,IAITrees.TreeGridResult}, ::DataFrame, ::SubArray{Int64,1,Array{Int64,1},Tuple{Array{Int64,1}},false}, ::DataFrame, ::SubArray{Int64,1,Array{Int64,1},Tuple{Array{Int64,1}},false}) at /Users/iai/builds/InterpretableAI/SysImgBuilder/.julia/packages/IAIBase/ymcNn/src/api.jl:85",
      " [21] fit!(::IAIBase.GridSearch{OptimalTrees.OptimalTreeClassifier,IAITrees.TreeGridResult}, ::DataFrame, ::SubArray{Int64,1,Array{Int64,1},Tuple{Array{Int64,1}},false}, ::DataFrame, ::SubArray{Int64,1,Array{Int64,1},Tuple{Array{Int64,1}},false}) at /Users/iai/builds/InterpretableAI/SysImgBuilder/.julia/packages/IAIBase/ymcNn/src/api.jl:66",
      " [22] top-level scope at In[4]:6"
     ]
    }
   ],
   "source": [
    "lnr = IAI.OptimalTreeClassifier(criterion=:gini)\n",
    "grid = IAI.GridSearch(lnr, Dict(\n",
    ":max_depth => 1:5,\n",
    ":minbucket => [10,20,50],\n",
    " ))\n",
    "IAI.fit!(grid, xtrain, ytrain, xval, yval)\n",
    "best_params1=IAI.get_best_params(grid)\n",
    "lnr=IAI.get_learner(grid)"
   ]
  },
  {
   "cell_type": "code",
   "execution_count": 5,
   "metadata": {},
   "outputs": [
    {
     "name": "stderr",
     "output_type": "stream",
     "text": [
      "\u001b[32mTraining trees...100%|██████████████████████████████████| Time: 0:01:37\u001b[39m\n"
     ]
    },
    {
     "ename": "MethodError",
     "evalue": "MethodError: no method matching get_learner(::OptimalTrees.OptimalTreeClassifier)\nClosest candidates are:\n  get_learner(!Matched::IAIBase.GridSearch) at /Users/iai/builds/InterpretableAI/SysImgBuilder/.julia/packages/IAIBase/ymcNn/src/gridsearch.jl:165",
     "output_type": "error",
     "traceback": [
      "MethodError: no method matching get_learner(::OptimalTrees.OptimalTreeClassifier)\nClosest candidates are:\n  get_learner(!Matched::IAIBase.GridSearch) at /Users/iai/builds/InterpretableAI/SysImgBuilder/.julia/packages/IAIBase/ymcNn/src/gridsearch.jl:165",
      "",
      "Stacktrace:",
      " [1] top-level scope at In[5]:3"
     ]
    }
   ],
   "source": [
    "lnr = IAI.OptimalTreeClassifier(criterion=:gini,max_depth=5,minbucket=10,cp=4e-6)\n",
    "IAI.fit!(lnr, xtrain, ytrain)\n"
   ]
  },
  {
   "cell_type": "code",
   "execution_count": 8,
   "metadata": {},
   "outputs": [
    {
     "data": {
      "text/plain": [
       "0.6475046874376671"
      ]
     },
     "execution_count": 8,
     "metadata": {},
     "output_type": "execute_result"
    }
   ],
   "source": [
    "test_acc=IAI.score(lnr,xtest,ytest,criterion=:misclassification)"
   ]
  },
  {
   "cell_type": "code",
   "execution_count": 85,
   "metadata": {},
   "outputs": [
    {
     "data": {
      "text/plain": [
       "get_splits (generic function with 1 method)"
      ]
     },
     "execution_count": 85,
     "metadata": {},
     "output_type": "execute_result"
    }
   ],
   "source": [
    "function get_splits(lnr)\n",
    "    leaves=DataFrame()\n",
    "    for node in 1:IAI.get_num_nodes(lnr)\n",
    "        if IAI.is_leaf(lnr,node)\n",
    "            new_node=IAI.get_parent(lnr,node)\n",
    "            child_node=node\n",
    "            leaf_df=DataFrame(IAI.get_classification_proba(lnr,node))\n",
    "            while new_node!=1\n",
    "                feat=IAI.get_split_feature(lnr,new_node)\n",
    "                thresh=IAI.get_split_threshold(lnr,new_node)\n",
    "                if !(Symbol(feat,\"_lower\") in names(leaf_df))\n",
    "                    insertcols!(leaf_df,1,Symbol(feat,\"_upper\")=>Inf)\n",
    "                    insertcols!(leaf_df,1,Symbol(feat,\"_lower\")=>-Inf)\n",
    "                end\n",
    "                if IAI.get_upper_child(lnr,new_node)==child_node\n",
    "                    if leaf_df[1,Symbol(feat,\"_lower\")]==-Inf\n",
    "                        leaf_df[:,Symbol(feat,\"_lower\")].=thresh\n",
    "                    end\n",
    "                else\n",
    "                    if leaf_df[1,Symbol(feat,\"_upper\")]==Inf\n",
    "                        leaf_df[:,Symbol(feat,\"_upper\")].=thresh\n",
    "                    end\n",
    "                end\n",
    "                \n",
    "                child_node=new_node\n",
    "                new_node=IAI.get_parent(lnr,new_node)\n",
    "            end\n",
    "            insertcols!(leaf_df,1,:LEAF=>node)\n",
    "            leaves=vcat(leaves,leaf_df,cols=:union)\n",
    "        end\n",
    "    end\n",
    "    return(leaves)\n",
    "end"
   ]
  },
  {
   "cell_type": "code",
   "execution_count": 84,
   "metadata": {},
   "outputs": [
    {
     "data": {
      "text/plain": [
       "6"
      ]
     },
     "execution_count": 84,
     "metadata": {},
     "output_type": "execute_result"
    }
   ],
   "source": [
    "IAI.get_lower_child(lnr,5)"
   ]
  },
  {
   "cell_type": "code",
   "execution_count": 93,
   "metadata": {},
   "outputs": [
    {
     "ename": "MethodError",
     "evalue": "MethodError: no method matching decision_path(::DataFrameRow{DataFrame,DataFrames.Index})\nClosest candidates are:\n  decision_path(!Matched::IAITrees.TreeLearner, !Matched::Union{AbstractDataFrame, AbstractArray{#s157,2} where #s157<:Real}) at /Users/iai/builds/InterpretableAI/SysImgBuilder/.julia/packages/IAITrees/PwNTS/src/api.jl:555\n  decision_path(!Matched::IAIBase.GridSearch, !Matched::Any...; kwargs...) at /Users/iai/builds/InterpretableAI/SysImgBuilder/.julia/packages/IAITrees/PwNTS/src/api.jl:779",
     "output_type": "error",
     "traceback": [
      "MethodError: no method matching decision_path(::DataFrameRow{DataFrame,DataFrames.Index})\nClosest candidates are:\n  decision_path(!Matched::IAITrees.TreeLearner, !Matched::Union{AbstractDataFrame, AbstractArray{#s157,2} where #s157<:Real}) at /Users/iai/builds/InterpretableAI/SysImgBuilder/.julia/packages/IAITrees/PwNTS/src/api.jl:555\n  decision_path(!Matched::IAIBase.GridSearch, !Matched::Any...; kwargs...) at /Users/iai/builds/InterpretableAI/SysImgBuilder/.julia/packages/IAITrees/PwNTS/src/api.jl:779",
      "",
      "Stacktrace:",
      " [1] top-level scope at In[93]:1"
     ]
    }
   ],
   "source": []
  },
  {
   "cell_type": "code",
   "execution_count": 12,
   "metadata": {},
   "outputs": [
    {
     "data": {
      "text/plain": [
       "996843"
      ]
     },
     "execution_count": 12,
     "metadata": {},
     "output_type": "execute_result"
    }
   ],
   "source": [
    "IAI.write_html(\"Tree1127.html\",lnr)"
   ]
  },
  {
   "cell_type": "code",
   "execution_count": 90,
   "metadata": {},
   "outputs": [
    {
     "data": {
      "text/plain": [
       "\"splits_nov27.csv\""
      ]
     },
     "execution_count": 90,
     "metadata": {},
     "output_type": "execute_result"
    }
   ],
   "source": [
    "CSV.write(\"splits_nov27.csv\",splits)"
   ]
  },
  {
   "cell_type": "code",
   "execution_count": 14,
   "metadata": {},
   "outputs": [
    {
     "data": {
      "text/plain": [
       "12-element Array{Symbol,1}:\n",
       " :LEAF              \n",
       " :down_lower        \n",
       " :down_upper        \n",
       " :yardline_100_lower\n",
       " :yardline_100_upper\n",
       " Symbol(\"-7\")       \n",
       " Symbol(\"-3\")       \n",
       " Symbol(\"0\")        \n",
       " Symbol(\"2\")        \n",
       " Symbol(\"7\")        \n",
       " :ydstogo_lower     \n",
       " :ydstogo_upper     "
      ]
     },
     "execution_count": 14,
     "metadata": {},
     "output_type": "execute_result"
    }
   ],
   "source": [
    "names(splits)"
   ]
  },
  {
   "cell_type": "code",
   "execution_count": 15,
   "metadata": {},
   "outputs": [
    {
     "data": {
      "text/plain": [
       "5-element Array{Symbol,1}:\n",
       " Symbol(\"-7\")\n",
       " Symbol(\"-3\")\n",
       " Symbol(\"0\") \n",
       " Symbol(\"2\") \n",
       " Symbol(\"7\") "
      ]
     },
     "execution_count": 15,
     "metadata": {},
     "output_type": "execute_result"
    }
   ],
   "source": [
    "scores=Array(names(splits)[6:10])"
   ]
  },
  {
   "cell_type": "code",
   "execution_count": 88,
   "metadata": {},
   "outputs": [
    {
     "data": {
      "text/plain": [
       "cost_functions (generic function with 1 method)"
      ]
     },
     "execution_count": 88,
     "metadata": {},
     "output_type": "execute_result"
    }
   ],
   "source": [
    "function cost_functions(split_df)\n",
    "    scores=[-7,-3,0,2,7]\n",
    "    return_df=DataFrame()\n",
    "    return_df[!,:BASE]=sum(i * split_df[:,Symbol(string(i))] for i in scores)\n",
    "    #split_df[!,:LOWRISK]=sum(i^2 * split_df[:,Symbol(string(i))] for i in scores)+\n",
    "    #    split_df[:,:BASE]-split_df[:,:BASE].^2\n",
    "    #split_df[!,:HIGHRISK]=-sum(i^2 * split_df[:,Symbol(string(i))] for i in scores)+\n",
    "    #    split_df[:,:BASE] + split_df[:,:BASE].^2\n",
    "    return_df[!,:DOWN4LATE]=-7*split_df[:,Symbol(\"-7\")]\n",
    "    return_df[!,:ANYSCORE]=-split_df[:,Symbol(\"-7\")]-split_df[:,Symbol(\"-3\")]\n",
    "    return_df[!,:DOWN3LATE]=-.5*split_df[:,Symbol(\"-3\")]-.9*split_df[:,Symbol(\"-7\")]\n",
    "    return(return_df)\n",
    "end"
   ]
  },
  {
   "cell_type": "code",
   "execution_count": 89,
   "metadata": {},
   "outputs": [
    {
     "data": {
      "text/html": [
       "<table class=\"data-frame\"><thead><tr><th></th><th>BASE</th><th>DOWN4LATE</th><th>ANYSCORE</th><th>DOWN3LATE</th></tr><tr><th></th><th>Float64</th><th>Float64</th><th>Float64</th><th>Float64</th></tr></thead><tbody><p>32 rows × 4 columns</p><tr><th>1</th><td>-6.20702</td><td>-5.90688</td><td>-0.945559</td><td>-0.810315</td></tr><tr><th>2</th><td>-5.55556</td><td>-4.9</td><td>-0.921111</td><td>-0.740556</td></tr><tr><th>3</th><td>-4.99752</td><td>-4.0678</td><td>-0.897054</td><td>-0.680973</td></tr><tr><th>4</th><td>-4.5747</td><td>-3.54142</td><td>-0.859837</td><td>-0.632286</td></tr><tr><th>5</th><td>-4.23422</td><td>-3.14393</td><td>-0.82401</td><td>-0.591658</td></tr><tr><th>6</th><td>-3.90207</td><td>-2.99214</td><td>-0.747529</td><td>-0.544744</td></tr><tr><th>7</th><td>-3.57143</td><td>-1.0</td><td>-1.0</td><td>-0.557143</td></tr><tr><th>8</th><td>-3.32031</td><td>-2.13281</td><td>-0.71875</td><td>-0.48125</td></tr><tr><th>9</th><td>-4.5935</td><td>-3.59485</td><td>-0.851626</td><td>-0.631233</td></tr><tr><th>10</th><td>-3.67884</td><td>-2.07866</td><td>-0.838861</td><td>-0.538212</td></tr><tr><th>11</th><td>-3.05167</td><td>-2.0843</td><td>-0.637661</td><td>-0.437933</td></tr><tr><th>12</th><td>-2.4053</td><td>-1.13113</td><td>-0.598675</td><td>-0.363974</td></tr><tr><th>13</th><td>-3.19517</td><td>-2.1831</td><td>-0.653924</td><td>-0.45171</td></tr><tr><th>14</th><td>-2.67246</td><td>-0.200145</td><td>-0.85523</td><td>-0.439052</td></tr><tr><th>15</th><td>-1.95686</td><td>-0.356195</td><td>-0.589602</td><td>-0.315155</td></tr><tr><th>16</th><td>-1.22493</td><td>-0.569106</td><td>-0.306233</td><td>-0.185637</td></tr><tr><th>17</th><td>-3.31966</td><td>-2.47481</td><td>-0.65136</td><td>-0.467098</td></tr><tr><th>18</th><td>-2.98664</td><td>-2.27021</td><td>-0.582138</td><td>-0.420795</td></tr><tr><th>19</th><td>-2.71731</td><td>-2.1138</td><td>-0.518118</td><td>-0.379847</td></tr><tr><th>20</th><td>-2.51364</td><td>-2.0356</td><td>-0.467406</td><td>-0.350023</td></tr><tr><th>21</th><td>-2.16077</td><td>-1.75995</td><td>-0.413666</td><td>-0.307402</td></tr><tr><th>22</th><td>-1.85707</td><td>-1.53951</td><td>-0.354504</td><td>-0.265224</td></tr><tr><th>23</th><td>-1.47754</td><td>-1.26957</td><td>-0.295342</td><td>-0.220217</td></tr><tr><th>24</th><td>-1.03472</td><td>-1.02306</td><td>-0.228557</td><td>-0.172739</td></tr><tr><th>25</th><td>-2.02745</td><td>-1.57755</td><td>-0.392808</td><td>-0.28655</td></tr><tr><th>26</th><td>-1.35796</td><td>-1.06965</td><td>-0.267623</td><td>-0.194935</td></tr><tr><th>27</th><td>-1.15915</td><td>-0.99386</td><td>-0.232206</td><td>-0.172895</td></tr><tr><th>28</th><td>-0.476531</td><td>-0.473349</td><td>-0.109984</td><td>-0.0820406</td></tr><tr><th>29</th><td>-1.47248</td><td>-1.25229</td><td>-0.252294</td><td>-0.197706</td></tr><tr><th>30</th><td>-0.244668</td><td>-0.237139</td><td>-0.0539523</td><td>-0.040527</td></tr><tr><th>&vellip;</th><td>&vellip;</td><td>&vellip;</td><td>&vellip;</td><td>&vellip;</td></tr></tbody></table>"
      ],
      "text/latex": [
       "\\begin{tabular}{r|cccc}\n",
       "\t& BASE & DOWN4LATE & ANYSCORE & DOWN3LATE\\\\\n",
       "\t\\hline\n",
       "\t& Float64 & Float64 & Float64 & Float64\\\\\n",
       "\t\\hline\n",
       "\t1 & -6.20702 & -5.90688 & -0.945559 & -0.810315 \\\\\n",
       "\t2 & -5.55556 & -4.9 & -0.921111 & -0.740556 \\\\\n",
       "\t3 & -4.99752 & -4.0678 & -0.897054 & -0.680973 \\\\\n",
       "\t4 & -4.5747 & -3.54142 & -0.859837 & -0.632286 \\\\\n",
       "\t5 & -4.23422 & -3.14393 & -0.82401 & -0.591658 \\\\\n",
       "\t6 & -3.90207 & -2.99214 & -0.747529 & -0.544744 \\\\\n",
       "\t7 & -3.57143 & -1.0 & -1.0 & -0.557143 \\\\\n",
       "\t8 & -3.32031 & -2.13281 & -0.71875 & -0.48125 \\\\\n",
       "\t9 & -4.5935 & -3.59485 & -0.851626 & -0.631233 \\\\\n",
       "\t10 & -3.67884 & -2.07866 & -0.838861 & -0.538212 \\\\\n",
       "\t11 & -3.05167 & -2.0843 & -0.637661 & -0.437933 \\\\\n",
       "\t12 & -2.4053 & -1.13113 & -0.598675 & -0.363974 \\\\\n",
       "\t13 & -3.19517 & -2.1831 & -0.653924 & -0.45171 \\\\\n",
       "\t14 & -2.67246 & -0.200145 & -0.85523 & -0.439052 \\\\\n",
       "\t15 & -1.95686 & -0.356195 & -0.589602 & -0.315155 \\\\\n",
       "\t16 & -1.22493 & -0.569106 & -0.306233 & -0.185637 \\\\\n",
       "\t17 & -3.31966 & -2.47481 & -0.65136 & -0.467098 \\\\\n",
       "\t18 & -2.98664 & -2.27021 & -0.582138 & -0.420795 \\\\\n",
       "\t19 & -2.71731 & -2.1138 & -0.518118 & -0.379847 \\\\\n",
       "\t20 & -2.51364 & -2.0356 & -0.467406 & -0.350023 \\\\\n",
       "\t21 & -2.16077 & -1.75995 & -0.413666 & -0.307402 \\\\\n",
       "\t22 & -1.85707 & -1.53951 & -0.354504 & -0.265224 \\\\\n",
       "\t23 & -1.47754 & -1.26957 & -0.295342 & -0.220217 \\\\\n",
       "\t24 & -1.03472 & -1.02306 & -0.228557 & -0.172739 \\\\\n",
       "\t25 & -2.02745 & -1.57755 & -0.392808 & -0.28655 \\\\\n",
       "\t26 & -1.35796 & -1.06965 & -0.267623 & -0.194935 \\\\\n",
       "\t27 & -1.15915 & -0.99386 & -0.232206 & -0.172895 \\\\\n",
       "\t28 & -0.476531 & -0.473349 & -0.109984 & -0.0820406 \\\\\n",
       "\t29 & -1.47248 & -1.25229 & -0.252294 & -0.197706 \\\\\n",
       "\t30 & -0.244668 & -0.237139 & -0.0539523 & -0.040527 \\\\\n",
       "\t$\\dots$ & $\\dots$ & $\\dots$ & $\\dots$ & $\\dots$ \\\\\n",
       "\\end{tabular}\n"
      ],
      "text/plain": [
       "32×4 DataFrame\n",
       "│ Row │ BASE      │ DOWN4LATE  │ ANYSCORE   │ DOWN3LATE   │\n",
       "│     │ \u001b[90mFloat64\u001b[39m   │ \u001b[90mFloat64\u001b[39m    │ \u001b[90mFloat64\u001b[39m    │ \u001b[90mFloat64\u001b[39m     │\n",
       "├─────┼───────────┼────────────┼────────────┼─────────────┤\n",
       "│ 1   │ -6.20702  │ -5.90688   │ -0.945559  │ -0.810315   │\n",
       "│ 2   │ -5.55556  │ -4.9       │ -0.921111  │ -0.740556   │\n",
       "│ 3   │ -4.99752  │ -4.0678    │ -0.897054  │ -0.680973   │\n",
       "│ 4   │ -4.5747   │ -3.54142   │ -0.859837  │ -0.632286   │\n",
       "│ 5   │ -4.23422  │ -3.14393   │ -0.82401   │ -0.591658   │\n",
       "│ 6   │ -3.90207  │ -2.99214   │ -0.747529  │ -0.544744   │\n",
       "│ 7   │ -3.57143  │ -1.0       │ -1.0       │ -0.557143   │\n",
       "│ 8   │ -3.32031  │ -2.13281   │ -0.71875   │ -0.48125    │\n",
       "│ 9   │ -4.5935   │ -3.59485   │ -0.851626  │ -0.631233   │\n",
       "│ 10  │ -3.67884  │ -2.07866   │ -0.838861  │ -0.538212   │\n",
       "⋮\n",
       "│ 22  │ -1.85707  │ -1.53951   │ -0.354504  │ -0.265224   │\n",
       "│ 23  │ -1.47754  │ -1.26957   │ -0.295342  │ -0.220217   │\n",
       "│ 24  │ -1.03472  │ -1.02306   │ -0.228557  │ -0.172739   │\n",
       "│ 25  │ -2.02745  │ -1.57755   │ -0.392808  │ -0.28655    │\n",
       "│ 26  │ -1.35796  │ -1.06965   │ -0.267623  │ -0.194935   │\n",
       "│ 27  │ -1.15915  │ -0.99386   │ -0.232206  │ -0.172895   │\n",
       "│ 28  │ -0.476531 │ -0.473349  │ -0.109984  │ -0.0820406  │\n",
       "│ 29  │ -1.47248  │ -1.25229   │ -0.252294  │ -0.197706   │\n",
       "│ 30  │ -0.244668 │ -0.237139  │ -0.0539523 │ -0.040527   │\n",
       "│ 31  │ -0.249615 │ -0.161787  │ -0.0523883 │ -0.0354391  │\n",
       "│ 32  │ 0.0137594 │ -0.0390039 │ -0.0081874 │ -0.00632249 │"
      ]
     },
     "execution_count": 89,
     "metadata": {},
     "output_type": "execute_result"
    }
   ],
   "source": [
    "cost_splits=cost_functions(splits)"
   ]
  },
  {
   "cell_type": "code",
   "execution_count": 92,
   "metadata": {},
   "outputs": [
    {
     "data": {
      "text/plain": [
       "\"splits_w_costs1127.csv\""
      ]
     },
     "execution_count": 92,
     "metadata": {},
     "output_type": "execute_result"
    }
   ],
   "source": [
    "splits_out=hcat(splits,cost_splits)\n",
    "CSV.write(\"splits_w_costs1127.csv\",splits_out)"
   ]
  },
  {
   "cell_type": "markdown",
   "metadata": {},
   "source": [
    "Data:\n",
    "\n",
    "Play data with costs: \n",
    "\"drive_results_w_costs1127.csv\"\n",
    "\n",
    "Filter by QB; those datasets are: (fill in when completed)\n",
    "\n",
    "Things to do:\n",
    "\n",
    "Run OPT on full drive results, with variations for each cost function\n",
    "\n",
    "run OPT on different QB's, probably only for base cost function\n",
    "\n",
    "Intepret results (in notebook)"
   ]
  },
  {
   "cell_type": "code",
   "execution_count": null,
   "metadata": {},
   "outputs": [],
   "source": []
  }
 ],
 "metadata": {
  "kernelspec": {
   "display_name": "Julia 1.2.0",
   "language": "julia",
   "name": "julia-1.2"
  },
  "language_info": {
   "file_extension": ".jl",
   "mimetype": "application/julia",
   "name": "julia",
   "version": "1.2.0"
  }
 },
 "nbformat": 4,
 "nbformat_minor": 2
}
